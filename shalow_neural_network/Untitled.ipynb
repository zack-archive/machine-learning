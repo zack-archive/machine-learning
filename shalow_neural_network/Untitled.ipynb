{
 "cells": [
  {
   "cell_type": "code",
   "execution_count": 10,
   "metadata": {
    "collapsed": true
   },
   "outputs": [],
   "source": [
    "from load_data import get_data\n",
    "\n",
    "import numpy as np\n",
    "import time\n",
    "train, train_label, test, test_label = get_data()"
   ]
  },
  {
   "cell_type": "code",
   "execution_count": 49,
   "metadata": {},
   "outputs": [],
   "source": [
    "# forward propagation\n",
    "def sg(X):\n",
    "    return 1/(1+np.exp(-X))    \n",
    "def drelu(X):\n",
    "    return np.where(X>0, 1, 0)"
   ]
  },
  {
   "cell_type": "code",
   "execution_count": 51,
   "metadata": {},
   "outputs": [
    {
     "name": "stdout",
     "output_type": "stream",
     "text": [
      "[[ 0.19975836 -0.39766557 -0.08594401  0.19440016 -0.08582073]\n",
      " [-0.45004654  0.03589641  0.16379465  0.01488911  0.44459476]\n",
      " [ 0.08655504  0.40340192 -0.3625253  -0.36072365  0.30739129]\n",
      " [-0.10232316 -0.3346458   0.42750858 -0.15223414  0.2508121 ]\n",
      " [ 0.22599799  0.38330609  0.12367221  0.25094243 -0.15110166]]\n",
      "[[1 0 0 1 0]\n",
      " [0 1 1 1 1]\n",
      " [1 1 0 0 1]\n",
      " [0 0 1 0 1]\n",
      " [1 1 1 1 0]]\n"
     ]
    }
   ],
   "source": []
  },
  {
   "cell_type": "code",
   "execution_count": 60,
   "metadata": {},
   "outputs": [],
   "source": [
    "# forward\n",
    "\n",
    "np.random.seed(1)\n",
    "\n",
    "w_1 = np.random.random((4,3))\n",
    "\n",
    "b_1 = np.random.random((4,1))\n",
    "z_1 = np.dot(w_1, train)+ b_1\n",
    "a_1 = np.maximum(z_1, 0)\n",
    "w_2 = np.random.random((3,4))\n",
    "b_2 = np.random.random((3, 1))\n",
    "z_2 = np.dot(w_2, a_1)\n",
    "a_2 = sg(z_2 )"
   ]
  },
  {
   "cell_type": "code",
   "execution_count": 61,
   "metadata": {},
   "outputs": [],
   "source": [
    "# back propagation\n",
    "\n",
    "dz_2 = a_2 - train_label\n",
    "dw_2 = np.dot(dz_2,a_1.T)/524\n",
    "db_1 = np.sum(dz_2, axis = 1, keepdims = True)\n",
    "dz_1 = np.dot(w_2.T, dz_2)*drelu(z_1)\n",
    "dw_1 = np.dot(dz_1, train.T)/524\n",
    "db_1 = np.sum(dz_1, axis = 1, keepdims = True)\n",
    "\n",
    "\n",
    "\n",
    "\n",
    "\n",
    "\n"
   ]
  },
  {
   "cell_type": "code",
   "execution_count": null,
   "metadata": {
    "collapsed": true
   },
   "outputs": [],
   "source": [
    "\n"
   ]
  }
 ],
 "metadata": {
  "kernelspec": {
   "display_name": "Python 3",
   "language": "python",
   "name": "python3"
  },
  "language_info": {
   "codemirror_mode": {
    "name": "ipython",
    "version": 3
   },
   "file_extension": ".py",
   "mimetype": "text/x-python",
   "name": "python",
   "nbconvert_exporter": "python",
   "pygments_lexer": "ipython3",
   "version": "3.6.3"
  }
 },
 "nbformat": 4,
 "nbformat_minor": 2
}
